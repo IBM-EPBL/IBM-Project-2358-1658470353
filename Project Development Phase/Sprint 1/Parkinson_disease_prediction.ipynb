{
  "nbformat": 4,
  "nbformat_minor": 0,
  "metadata": {
    "colab": {
      "provenance": []
    },
    "kernelspec": {
      "name": "python3",
      "display_name": "Python 3"
    },
    "language_info": {
      "name": "python"
    }
  },
  "cells": [
    {
      "cell_type": "markdown",
      "source": [
        "Image Pre-Processing and\n",
        "Import the necessary Libraries "
      ],
      "metadata": {
        "id": "flXSP0yp5hSj"
      }
    },
    {
      "cell_type": "code",
      "source": [
        "from sklearn.ensemble import RandomForestClassifier\n",
        "from sklearn.preprocessing import LabelEncoder\n",
        "from sklearn.metrics import confusion_matrix\n",
        "from skimage import feature\n",
        "from imutils import build_montages\n",
        "from imutils import paths\n",
        "import numpy as np\n",
        "import cv2\n",
        "import os\n",
        "import pickle"
      ],
      "metadata": {
        "id": "8gnmBhtn5Sei"
      },
      "execution_count": 14,
      "outputs": []
    },
    {
      "cell_type": "markdown",
      "source": [
        "Path for train and test data"
      ],
      "metadata": {
        "id": "0djY_Rc05w29"
      }
    },
    {
      "cell_type": "code",
      "source": [
        "trainingpath=r\"/content/drive/MyDrive/dataset/training\"\n",
        "testingpath=r\"/content/drive/MyDrive/dataset/testing\""
      ],
      "metadata": {
        "id": "BCAZgoiw5ZVI"
      },
      "execution_count": 15,
      "outputs": []
    },
    {
      "cell_type": "markdown",
      "source": [
        "Quantifying Images"
      ],
      "metadata": {
        "id": "4Q4NLEaS57rI"
      }
    },
    {
      "cell_type": "code",
      "source": [
        "def quantify_image(image):\n",
        "    features = feature.hog(image, orientations=9,\n",
        "                           pixels_per_cell=(10, 10), \n",
        "                           cells_per_block=(2, 2),\n",
        "                           transform_sqrt=True, \n",
        "                           block_norm=\"L1\")\n",
        "    return features"
      ],
      "metadata": {
        "id": "cGUO1G-r7niY"
      },
      "execution_count": 16,
      "outputs": []
    },
    {
      "cell_type": "markdown",
      "source": [
        "Loading Train Data and Test Data"
      ],
      "metadata": {
        "id": "03dBMQVQ6AVk"
      }
    },
    {
      "cell_type": "code",
      "source": [
        "def load_split(path):\n",
        "    imagePaths = list(paths.list_images(path))\n",
        "    data = []\n",
        "    labels = []\n",
        "    \n",
        "    for imagePath in imagePaths:\n",
        "        label = imagePath.split(os.path.sep)[-2]\n",
        "        \n",
        "        image = cv2.imread(imagePath)\n",
        "        image = cv2.cvtColor(image, cv2.COLOR_BGR2GRAY)\n",
        "        image = cv2.resize(image, (200, 200))\n",
        "\n",
        "        image=cv2.threshold(image,0,255,cv2.THRESH_BINARY_INV | cv2.THRESH_OTSU)[1]\n",
        "        \n",
        "        features = quantify_image(image)\n",
        "\n",
        "        data.append(features)\n",
        "        labels.append(label)\n",
        "\n",
        "    return (np.array(data), np.array(labels))"
      ],
      "metadata": {
        "id": "1iKDzcqQ7tfU"
      },
      "execution_count": 17,
      "outputs": []
    },
    {
      "cell_type": "markdown",
      "source": [
        "Load the train and test data"
      ],
      "metadata": {
        "id": "ye93OGb06GqB"
      }
    },
    {
      "cell_type": "code",
      "source": [
        "print(\"[INFO] loading data...\")\n",
        "(X_train, y_train) = load_split(trainingpath)\n",
        "(X_test, y_test) = load_split(testingpath)"
      ],
      "metadata": {
        "colab": {
          "base_uri": "https://localhost:8080/"
        },
        "id": "Y4CceTma7wi4",
        "outputId": "63f0dd61-390a-483c-bdd5-03cefec829fa"
      },
      "execution_count": 18,
      "outputs": [
        {
          "output_type": "stream",
          "name": "stdout",
          "text": [
            "[INFO] loading data...\n"
          ]
        }
      ]
    },
    {
      "cell_type": "markdown",
      "source": [
        "Label Encoding"
      ],
      "metadata": {
        "id": "ddHPigXw6K9z"
      }
    },
    {
      "cell_type": "code",
      "source": [
        "le = LabelEncoder()\n",
        "y_train = le.fit_transform(y_train)\n",
        "y_test = le.transform(y_test)\n",
        "print(X_train.shape,y_train.shape)"
      ],
      "metadata": {
        "colab": {
          "base_uri": "https://localhost:8080/"
        },
        "id": "qimhvukN7zTJ",
        "outputId": "8cc085b1-a940-4d68-ab3b-7ab847997877"
      },
      "execution_count": 19,
      "outputs": [
        {
          "output_type": "stream",
          "name": "stdout",
          "text": [
            "(144, 12996) (144,)\n"
          ]
        }
      ]
    },
    {
      "cell_type": "markdown",
      "source": [
        "Model Building and\n",
        "Training The Model"
      ],
      "metadata": {
        "id": "XkwMj7p_6Scq"
      }
    },
    {
      "cell_type": "code",
      "source": [
        "print(\"[INFO] training model\")\n",
        "model = RandomForestClassifier(n_estimators=100)\n",
        "model.fit(X_train, y_train)"
      ],
      "metadata": {
        "colab": {
          "base_uri": "https://localhost:8080/"
        },
        "id": "Ho-s67gr8C_F",
        "outputId": "2e5f8434-97e6-43cf-cd7d-0c9289a00287"
      },
      "execution_count": 20,
      "outputs": [
        {
          "output_type": "stream",
          "name": "stdout",
          "text": [
            "[INFO] training model\n"
          ]
        },
        {
          "output_type": "execute_result",
          "data": {
            "text/plain": [
              "RandomForestClassifier()"
            ]
          },
          "metadata": {},
          "execution_count": 20
        }
      ]
    },
    {
      "cell_type": "markdown",
      "source": [
        "Testing The Model"
      ],
      "metadata": {
        "id": "70yggky06bVu"
      }
    },
    {
      "cell_type": "code",
      "source": [
        "testingpath=list(paths.list_images(testingpath))\n",
        "idxs=np.arange(0,len(testingpath))\n",
        "idxs=np.random.choice(idxs,size=(25,),replace=False)\n",
        "images=[]"
      ],
      "metadata": {
        "id": "0nya4Xs58P5B"
      },
      "execution_count": 21,
      "outputs": []
    },
    {
      "cell_type": "code",
      "source": [
        "for i in idxs:\n",
        "    image=cv2.imread(testingpath[i])\n",
        "    output=image.copy()\n",
        "        \n",
        "    # load the input image,convert to grayscale and resize\n",
        "    \n",
        "    output=cv2.resize(output,(128,128))\n",
        "    image=cv2.cvtColor(image,cv2.COLOR_BGR2GRAY)\n",
        "    image=cv2.resize(image,(200,200))\n",
        "    image=cv2.threshold(image,0,255,cv2.THRESH_BINARY_INV | cv2.THRESH_OTSU)[1]\n",
        "    \n",
        "    #quantify the image and make predictions based on the  extracted feature using last trained random forest\n",
        "    features=quantify_image(image)\n",
        "    preds=model.predict([features])\n",
        "    label=le.inverse_transform(preds)[0]\n",
        "    #the set of output images\n",
        "    if label==\"healthy\":\n",
        "        color=(0,255,0)\n",
        "    else:\n",
        "        color=(0,0,255)\n",
        "        \n",
        "    cv2.putText(output,label,(3,20),cv2.FONT_HERSHEY_SIMPLEX,0.5,color,2)\n",
        "    images.append(output)\n",
        "\n",
        "#creating a montage\n",
        "montage=build_montages(images,(128,128),(5,5))[0]\n",
        "# cv2.imshow(\"Output\",montage)\n",
        "# cv2.waitKey(0)"
      ],
      "metadata": {
        "id": "dDub-t7l8Scp"
      },
      "execution_count": 22,
      "outputs": []
    },
    {
      "cell_type": "markdown",
      "source": [
        "Model Evaluation"
      ],
      "metadata": {
        "id": "Wh4xTtEV6iAZ"
      }
    },
    {
      "cell_type": "code",
      "source": [
        "predictions = model.predict(X_test)\n",
        "\n",
        "cm = confusion_matrix(y_test, predictions).flatten()\n",
        "print(cm)\n",
        "(tn, fp, fn, tp) = cm\n",
        "accuracy = (tp + tn) / float(cm.sum())\n",
        "print(accuracy)"
      ],
      "metadata": {
        "colab": {
          "base_uri": "https://localhost:8080/"
        },
        "id": "5dXr_MQ18WSK",
        "outputId": "616f3755-33c1-4571-bb3b-98b6f05946ed"
      },
      "execution_count": 23,
      "outputs": [
        {
          "output_type": "stream",
          "name": "stdout",
          "text": [
            "[26  4  9 21]\n",
            "0.7833333333333333\n"
          ]
        }
      ]
    },
    {
      "cell_type": "markdown",
      "source": [
        "Save The Model"
      ],
      "metadata": {
        "id": "NptyTj-I6k4o"
      }
    },
    {
      "cell_type": "code",
      "source": [
        "pickle.dump(model,open('parkinson.pkl','wb')) "
      ],
      "metadata": {
        "id": "z35tldZU8fSx"
      },
      "execution_count": 12,
      "outputs": []
    },
    {
      "cell_type": "code",
      "source": [],
      "metadata": {
        "id": "0AYGa7SKA-ne"
      },
      "execution_count": null,
      "outputs": []
    }
  ]
}